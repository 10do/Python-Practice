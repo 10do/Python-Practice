{
  "nbformat": 4,
  "nbformat_minor": 0,
  "metadata": {
    "colab": {
      "name": "Day1 pt 2",
      "provenance": [],
      "collapsed_sections": [],
      "authorship_tag": "ABX9TyNz8+vGGZNWxkzx2PD0GJNH",
      "include_colab_link": true
    },
    "kernelspec": {
      "name": "python3",
      "display_name": "Python 3"
    },
    "language_info": {
      "name": "python"
    }
  },
  "cells": [
    {
      "cell_type": "markdown",
      "metadata": {
        "id": "view-in-github",
        "colab_type": "text"
      },
      "source": [
        "<a href=\"https://colab.research.google.com/github/10do/Python-Practice/blob/main/Day1_pt_2.ipynb\" target=\"_parent\"><img src=\"https://colab.research.google.com/assets/colab-badge.svg\" alt=\"Open In Colab\"/></a>"
      ]
    },
    {
      "cell_type": "code",
      "execution_count": null,
      "metadata": {
        "colab": {
          "base_uri": "https://localhost:8080/"
        },
        "id": "-jRo52SALRPB",
        "outputId": "caee05e6-b05c-4a31-8f11-6b1a39407e49"
      },
      "outputs": [
        {
          "output_type": "stream",
          "name": "stdout",
          "text": [
            "hello\n"
          ]
        }
      ],
      "source": [
        "print ('hello')"
      ]
    },
    {
      "cell_type": "code",
      "source": [
        "print (4 * 4)"
      ],
      "metadata": {
        "colab": {
          "base_uri": "https://localhost:8080/"
        },
        "id": "ZGULz29JQJGQ",
        "outputId": "6a403a26-cb46-441e-bdd9-ae03e29098fd"
      },
      "execution_count": null,
      "outputs": [
        {
          "output_type": "stream",
          "name": "stdout",
          "text": [
            "16\n"
          ]
        }
      ]
    },
    {
      "cell_type": "code",
      "source": [
        "my_list = [1,2,3,4,5,6,7,8,9]"
      ],
      "metadata": {
        "id": "bjj36Y69cepd"
      },
      "execution_count": null,
      "outputs": []
    },
    {
      "cell_type": "code",
      "source": [
        "print(my_list)"
      ],
      "metadata": {
        "colab": {
          "base_uri": "https://localhost:8080/"
        },
        "id": "DUtLUbOscrIq",
        "outputId": "69598b31-7e55-4f38-a7d5-354d9c818b41"
      },
      "execution_count": null,
      "outputs": [
        {
          "output_type": "stream",
          "name": "stdout",
          "text": [
            "[1, 2, 3, 4, 5, 6, 7, 8, 9]\n"
          ]
        }
      ]
    },
    {
      "cell_type": "code",
      "source": [
        "print (my_list[3])"
      ],
      "metadata": {
        "colab": {
          "base_uri": "https://localhost:8080/"
        },
        "id": "7RHdrDfqct6t",
        "outputId": "c8663de3-da37-4078-eb80-808c403b2525"
      },
      "execution_count": null,
      "outputs": [
        {
          "output_type": "stream",
          "name": "stdout",
          "text": [
            "4\n"
          ]
        }
      ]
    },
    {
      "cell_type": "code",
      "source": [
        "print(my_list [5:])"
      ],
      "metadata": {
        "colab": {
          "base_uri": "https://localhost:8080/"
        },
        "id": "Cm0lI1d1c8hk",
        "outputId": "1150222f-9de8-48b8-f9b8-009e56049b27"
      },
      "execution_count": null,
      "outputs": [
        {
          "output_type": "stream",
          "name": "stdout",
          "text": [
            "[6, 7, 8, 9]\n"
          ]
        }
      ]
    },
    {
      "cell_type": "code",
      "source": [
        "print(my_list[-2])"
      ],
      "metadata": {
        "colab": {
          "base_uri": "https://localhost:8080/"
        },
        "id": "gvofvFYzduSb",
        "outputId": "8d1970e2-593a-417a-a09e-b9da0a2ed1b1"
      },
      "execution_count": null,
      "outputs": [
        {
          "output_type": "stream",
          "name": "stdout",
          "text": [
            "8\n"
          ]
        }
      ]
    },
    {
      "cell_type": "code",
      "source": [
        "my_list[0]=0"
      ],
      "metadata": {
        "id": "zJq5o1HnfHkK"
      },
      "execution_count": null,
      "outputs": []
    },
    {
      "cell_type": "code",
      "source": [
        "print(my_list)"
      ],
      "metadata": {
        "colab": {
          "base_uri": "https://localhost:8080/"
        },
        "id": "JQ9rVbn3fknx",
        "outputId": "8abf7099-03c7-4e17-f7aa-0a7bda39d82e"
      },
      "execution_count": null,
      "outputs": [
        {
          "output_type": "stream",
          "name": "stdout",
          "text": [
            "[0, 2, 3, 4, 5, 6, 7, 8, 9]\n"
          ]
        }
      ]
    },
    {
      "cell_type": "code",
      "source": [
        "my_list.insert(1, 1)\n",
        "print(my_list)"
      ],
      "metadata": {
        "colab": {
          "base_uri": "https://localhost:8080/"
        },
        "id": "ese5KWqLfqYq",
        "outputId": "080c7179-251e-4d33-a6b8-bb37ab80add1"
      },
      "execution_count": null,
      "outputs": [
        {
          "output_type": "stream",
          "name": "stdout",
          "text": [
            "[0, 1, 1, 1, 1, 1, 2, 4.5, 3, 4, 5, 6, 7, 8, 9, 10]\n"
          ]
        }
      ]
    },
    {
      "cell_type": "code",
      "source": [
        "my_list.insert(5, 4.5)\n",
        "print (my_list)"
      ],
      "metadata": {
        "colab": {
          "base_uri": "https://localhost:8080/"
        },
        "id": "n57no5-dgo-z",
        "outputId": "4ba766f5-48de-446b-a6f5-75758452a225"
      },
      "execution_count": null,
      "outputs": [
        {
          "output_type": "stream",
          "name": "stdout",
          "text": [
            "[0, 1, 1, 1, 2, 4.5, 3, 4, 5, 6, 7, 8, 9]\n"
          ]
        }
      ]
    },
    {
      "cell_type": "code",
      "source": [
        "my_list.append(10)\n",
        "print (my_list)"
      ],
      "metadata": {
        "colab": {
          "base_uri": "https://localhost:8080/"
        },
        "id": "NV7IulL1hT0J",
        "outputId": "0d46fe8b-02d5-4908-b7cf-35f81eb36409"
      },
      "execution_count": null,
      "outputs": [
        {
          "output_type": "stream",
          "name": "stdout",
          "text": [
            "[0, 1, 1, 1, 2, 4.5, 3, 4, 5, 6, 7, 8, 9, 10]\n"
          ]
        }
      ]
    },
    {
      "cell_type": "code",
      "source": [
        "del(my_list)[1:4]\n",
        "print (my_list)"
      ],
      "metadata": {
        "colab": {
          "base_uri": "https://localhost:8080/"
        },
        "id": "bcxNlJQehwMJ",
        "outputId": "4b9e4c56-9c8f-4c2c-e25a-5f316b221145"
      },
      "execution_count": null,
      "outputs": [
        {
          "output_type": "stream",
          "name": "stdout",
          "text": [
            "[0, 2, 4.5, 3, 4, 5, 6, 7, 8, 9, 10]\n"
          ]
        }
      ]
    },
    {
      "cell_type": "code",
      "source": [
        "my_list_1 = []\n",
        "print(my_list_1)\n"
      ],
      "metadata": {
        "colab": {
          "base_uri": "https://localhost:8080/"
        },
        "id": "OcXx4j1byg5w",
        "outputId": "f627a5ac-62d3-46d3-cc09-632427918d23"
      },
      "execution_count": null,
      "outputs": [
        {
          "output_type": "stream",
          "name": "stdout",
          "text": [
            "[]\n"
          ]
        }
      ]
    },
    {
      "cell_type": "code",
      "source": [
        "my_list_2 = list()\n",
        "print(my_list_2)"
      ],
      "metadata": {
        "colab": {
          "base_uri": "https://localhost:8080/"
        },
        "id": "WaPhWRRsz2O1",
        "outputId": "1e978c6e-8afb-4ab6-96b6-f35a6ccb32be"
      },
      "execution_count": null,
      "outputs": [
        {
          "output_type": "stream",
          "name": "stdout",
          "text": [
            "[]\n"
          ]
        }
      ]
    },
    {
      "cell_type": "code",
      "source": [
        "my_list_3 = list([1,2,3,4,5])\n",
        "print(my_list_3)"
      ],
      "metadata": {
        "colab": {
          "base_uri": "https://localhost:8080/"
        },
        "id": "0cr6qXYI0CFF",
        "outputId": "8af52ca5-eea4-4468-8a49-7ce822a6fa28"
      },
      "execution_count": null,
      "outputs": [
        {
          "output_type": "stream",
          "name": "stdout",
          "text": [
            "[1, 2, 3, 4, 5]\n"
          ]
        }
      ]
    },
    {
      "cell_type": "code",
      "source": [
        "name = input('what is your name? ')\n"
      ],
      "metadata": {
        "colab": {
          "base_uri": "https://localhost:8080/"
        },
        "id": "3OoU6nQ30p9g",
        "outputId": "a359eaa4-388d-4522-db6a-fd10c808c985"
      },
      "execution_count": null,
      "outputs": [
        {
          "name": "stdout",
          "output_type": "stream",
          "text": [
            "what is your name? Tendo\n"
          ]
        }
      ]
    },
    {
      "cell_type": "code",
      "source": [
        "age = input ('what is your age ')\n"
      ],
      "metadata": {
        "colab": {
          "base_uri": "https://localhost:8080/"
        },
        "id": "Dp8GqjQ63Nxr",
        "outputId": "414b9497-bfda-4100-af1e-df4f606f8b9c"
      },
      "execution_count": null,
      "outputs": [
        {
          "name": "stdout",
          "output_type": "stream",
          "text": [
            "what is your age 37\n"
          ]
        }
      ]
    },
    {
      "cell_type": "code",
      "source": [
        "dob = input('what is your date of birth ')"
      ],
      "metadata": {
        "colab": {
          "base_uri": "https://localhost:8080/"
        },
        "id": "2GkxjDdl38li",
        "outputId": "b648f816-b9b7-4683-c337-dbbc2e041f78"
      },
      "execution_count": null,
      "outputs": [
        {
          "name": "stdout",
          "output_type": "stream",
          "text": [
            "what is your date of birth 01.02.1985\n"
          ]
        }
      ]
    },
    {
      "cell_type": "code",
      "source": [
        "print(name, age, dob)"
      ],
      "metadata": {
        "colab": {
          "base_uri": "https://localhost:8080/"
        },
        "id": "4lUeztBK4UpL",
        "outputId": "600d0987-352d-4084-fcd4-9486320f4669"
      },
      "execution_count": null,
      "outputs": [
        {
          "output_type": "stream",
          "name": "stdout",
          "text": [
            "Tendo 37 01.02.1985\n"
          ]
        }
      ]
    },
    {
      "cell_type": "code",
      "source": [
        "my_list_4 = list ()\n",
        "print(my_list_4)"
      ],
      "metadata": {
        "colab": {
          "base_uri": "https://localhost:8080/"
        },
        "id": "-xuR5M5L4o-x",
        "outputId": "6618d350-619c-48b3-8d82-254fb54963cb"
      },
      "execution_count": null,
      "outputs": [
        {
          "output_type": "stream",
          "name": "stdout",
          "text": [
            "[]\n"
          ]
        }
      ]
    },
    {
      "cell_type": "code",
      "source": [
        "my_list_4 = [name, age, dob]\n",
        "print(my_list_4)"
      ],
      "metadata": {
        "colab": {
          "base_uri": "https://localhost:8080/"
        },
        "id": "H4sVRFWJ6xcl",
        "outputId": "4fd2c2a8-2eb4-445d-cf49-722377ace360"
      },
      "execution_count": null,
      "outputs": [
        {
          "output_type": "stream",
          "name": "stdout",
          "text": [
            "['Tendo', '37', '01.02.1985']\n"
          ]
        }
      ]
    },
    {
      "cell_type": "code",
      "source": [
        "mytuple = tuple(my_list_4)\n",
        "print(mytuple)\n",
        "print(type(mytuple))"
      ],
      "metadata": {
        "colab": {
          "base_uri": "https://localhost:8080/"
        },
        "id": "lWtITxss9UCo",
        "outputId": "e18de100-e763-4d95-8655-5eab32b471eb"
      },
      "execution_count": null,
      "outputs": [
        {
          "output_type": "stream",
          "name": "stdout",
          "text": [
            "('Tendo', '37', '01.02.1985')\n",
            "<class 'tuple'>\n"
          ]
        }
      ]
    },
    {
      "cell_type": "code",
      "source": [
        "dictionary_1 = {'name' : name, 'age':age, 'dob': dob}\n",
        "print (dictionary_1)\n",
        "print(type(dictionary_1))"
      ],
      "metadata": {
        "colab": {
          "base_uri": "https://localhost:8080/"
        },
        "id": "bFRAfW7p_bIj",
        "outputId": "050f5015-456f-4164-c2fb-7fc2b6d15f68"
      },
      "execution_count": null,
      "outputs": [
        {
          "output_type": "stream",
          "name": "stdout",
          "text": [
            "{'name': 'Tendo', 'age': '37', 'dob': '01.02.1985'}\n",
            "<class 'dict'>\n"
          ]
        }
      ]
    },
    {
      "cell_type": "code",
      "source": [
        "myset = set(my_list_4)\n",
        "print(myset)\n",
        "print (type(myset))\n"
      ],
      "metadata": {
        "colab": {
          "base_uri": "https://localhost:8080/"
        },
        "id": "RqMcoZz-BXG4",
        "outputId": "31284096-5871-4fc0-f54b-75cf901701cd"
      },
      "execution_count": null,
      "outputs": [
        {
          "output_type": "stream",
          "name": "stdout",
          "text": [
            "{'37', 'Tendo', '01.02.1985'}\n",
            "<class 'set'>\n"
          ]
        }
      ]
    },
    {
      "cell_type": "code",
      "source": [
        "annualSales = 200000\n",
        "region = \"North\"\n",
        "newCustomer = True\n",
        "\n",
        "if annualSales >= 500000:\n",
        "  print (\"Gold Customer\")\n",
        "\n",
        "elif annualSales >= 300000:\n",
        "  print (\"Silver Customer\")\n",
        "  if region == \"South\":\n",
        "    print(\"Coupon for 50% off with code SAVE50\")\n",
        "  else: \n",
        "    print (\"Coupon for 10% off with code SAVE10\")  \n",
        "\n",
        "elif annualSales >= 100000 and newCustomer:\n",
        "  print (\"Bronze Customer and you are a first prize winner\") \n",
        "\n",
        "else:\n",
        "    print (\"We haven\\'t seen you lately!\")\n",
        "  \n",
        "print (\"Thank you for your business\")\n"
      ],
      "metadata": {
        "colab": {
          "base_uri": "https://localhost:8080/"
        },
        "id": "Xk6KcOHSpE82",
        "outputId": "fb13a7c9-a360-4470-896f-a18715d1617e"
      },
      "execution_count": null,
      "outputs": [
        {
          "output_type": "stream",
          "name": "stdout",
          "text": [
            "Bronze Customer and You are a first prize winner\n",
            "Thank you for your business\n"
          ]
        }
      ]
    }
  ]
}