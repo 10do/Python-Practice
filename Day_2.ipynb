{
  "nbformat": 4,
  "nbformat_minor": 0,
  "metadata": {
    "colab": {
      "name": "Day 2",
      "provenance": [],
      "collapsed_sections": [],
      "authorship_tag": "ABX9TyNNjcRUX+9ns2mkQsO/xjcw",
      "include_colab_link": true
    },
    "kernelspec": {
      "name": "python3",
      "display_name": "Python 3"
    },
    "language_info": {
      "name": "python"
    }
  },
  "cells": [
    {
      "cell_type": "markdown",
      "metadata": {
        "id": "view-in-github",
        "colab_type": "text"
      },
      "source": [
        "<a href=\"https://colab.research.google.com/github/10do/Python-Practice/blob/main/Day_2.ipynb\" target=\"_parent\"><img src=\"https://colab.research.google.com/assets/colab-badge.svg\" alt=\"Open In Colab\"/></a>"
      ]
    },
    {
      "cell_type": "code",
      "execution_count": null,
      "metadata": {
        "colab": {
          "base_uri": "https://localhost:8080/"
        },
        "id": "RC31W3bhaOrq",
        "outputId": "b2e2501c-5c79-4d77-9e30-c1f24719b119"
      },
      "outputs": [
        {
          "output_type": "stream",
          "name": "stdout",
          "text": [
            "open 9-12\n",
            "thanks for visiting!\n"
          ]
        }
      ],
      "source": [
        "day = 'saturday'\n",
        "\n",
        "if day == 'sunday' or day == 'monday':\n",
        "  print ('closed')\n",
        "\n",
        "elif day == 'saturday':\n",
        "  print ('open 9-12')\n",
        "\n",
        "else:\n",
        "  print ('open 9-5')\n",
        "\n",
        "\n",
        "print ('thanks for visiting!')"
      ]
    },
    {
      "cell_type": "code",
      "source": [
        "day = input(print('what day is it today'))\n",
        "\n",
        "if day == 'sunday' or day == 'monday':\n",
        "  print ('closed')\n",
        "\n",
        "elif day == 'saturday':\n",
        "  print ('open 9-12')\n",
        "\n",
        "else:\n",
        "  print ('open 9-5')\n",
        "\n",
        "\n",
        "print ('thanks for visiting!')"
      ],
      "metadata": {
        "colab": {
          "base_uri": "https://localhost:8080/"
        },
        "id": "0bitf3T1g4Em",
        "outputId": "7ff7b849-3dcd-45f2-f06a-2b18458c5d17"
      },
      "execution_count": null,
      "outputs": [
        {
          "output_type": "stream",
          "name": "stdout",
          "text": [
            "what day is it today\n",
            "saturday\n",
            "open 9-12\n",
            "thanks for visiting!\n"
          ]
        }
      ]
    },
    {
      "cell_type": "code",
      "source": [
        "height = 91\n",
        "\n",
        "if height > 117:\n",
        "  print('You can ride on the big dipper!')\n",
        "\n",
        "elif height >= 90:\n",
        "  print('Sorry, no big dipper for you, but you can go on some of the rides') \n",
        "  \n",
        "\n",
        "else:\n",
        "  print('sorry! Too short to ride this time')"
      ],
      "metadata": {
        "colab": {
          "base_uri": "https://localhost:8080/"
        },
        "id": "XUlWfICRhSFN",
        "outputId": "eda33fd5-c68f-4e39-bac3-76dd69816314"
      },
      "execution_count": null,
      "outputs": [
        {
          "output_type": "stream",
          "name": "stdout",
          "text": [
            "Sorry, no big dipper for you, but you can go on some of the rides\n"
          ]
        }
      ]
    },
    {
      "cell_type": "code",
      "source": [
        "height = 100\n",
        "\n",
        "if height  < 90 or height > 250:\n",
        "  print('Sorry! You can\\'t go on any rides')"
      ],
      "metadata": {
        "id": "Y-WUFqbRmrEI"
      },
      "execution_count": null,
      "outputs": []
    },
    {
      "cell_type": "code",
      "source": [
        "height = 90\n",
        "shoes = 'flip flops'\n",
        "\n",
        "if height > 117:\n",
        "\n",
        "  if shoes == 'flip flops':\n",
        "    print('No rides for you because of your shoes')\n",
        "  else:\n",
        "    print('you can go on ride due to your height and shoes')\n",
        "\n",
        "else:\n",
        "  print('no rides because of your height')"
      ],
      "metadata": {
        "colab": {
          "base_uri": "https://localhost:8080/"
        },
        "id": "YEJ-x2txnZX7",
        "outputId": "d33a537e-2894-4c84-e554-507d39c88c1c"
      },
      "execution_count": null,
      "outputs": [
        {
          "output_type": "stream",
          "name": "stdout",
          "text": [
            "no rides because of your height\n"
          ]
        }
      ]
    },
    {
      "cell_type": "code",
      "source": [
        "\n",
        "grade = mark *100/90\n",
        "mark = int (input('What is your mark? '))\n",
        "\n",
        "if grade > 70:\n",
        "  print ('Distinction')\n",
        "\n",
        "elif grade >= 40 or grade <= 70:\n",
        "  print('Pass')\n",
        "\n",
        "else:\n",
        "  print ('Fail')\n",
        "\n",
        "print(grade)\n"
      ],
      "metadata": {
        "colab": {
          "base_uri": "https://localhost:8080/"
        },
        "id": "rWDJQlCkwgMZ",
        "outputId": "1fe075b1-3d35-4586-e1ac-3c502e6706b6"
      },
      "execution_count": null,
      "outputs": [
        {
          "output_type": "stream",
          "name": "stdout",
          "text": [
            "What is your mark? 70\n",
            "Distinction\n",
            "77.77777777777777\n"
          ]
        }
      ]
    },
    {
      "cell_type": "code",
      "source": [
        "\n",
        "grade = mark *100/90\n",
        "mark = int (input('What is your mark? '))\n",
        "\n",
        "if grade > 70:\n",
        "  print ('Distinction')\n",
        "\n",
        "elif grade >= 40 or grade <= 70:\n",
        "  print('Pass')\n",
        "\n",
        "else:\n",
        "  print ('Fail')\n",
        "\n",
        "print(grade)\n"
      ],
      "metadata": {
        "colab": {
          "base_uri": "https://localhost:8080/"
        },
        "outputId": "1fe075b1-3d35-4586-e1ac-3c502e6706b6",
        "id": "6KdkM-d76kcf"
      },
      "execution_count": null,
      "outputs": [
        {
          "output_type": "stream",
          "name": "stdout",
          "text": [
            "What is your mark? 70\n",
            "Distinction\n",
            "77.77777777777777\n"
          ]
        }
      ]
    },
    {
      "cell_type": "code",
      "source": [
        "mark = int (input('What is your mark? '))\n",
        "grade = int (mark *100/90)\n",
        "\n",
        "grade = []\n",
        "\n",
        "if grade > 70:\n",
        "  print ('Distinction')\n",
        "\n",
        "elif grade >= 40:\n",
        "  print('Pass')\n",
        "\n",
        "else:\n",
        "  print ('Fail')\n",
        "\n",
        "print(grade, '%')\n"
      ],
      "metadata": {
        "colab": {
          "base_uri": "https://localhost:8080/"
        },
        "outputId": "bf05bd61-faeb-41db-874d-b9110ba293c3",
        "id": "uvsukKkL6ljN"
      },
      "execution_count": null,
      "outputs": [
        {
          "output_type": "stream",
          "name": "stdout",
          "text": [
            "What is your mark? 20\n",
            "Fail\n",
            "22 %\n"
          ]
        }
      ]
    },
    {
      "cell_type": "code",
      "source": [
        "#if, elif, else\n",
        "mark = int (input('What is your mark? '))\n",
        "grade = int (mark *100/90)\n",
        "\n",
        "testResults = []\n",
        "\n",
        "if grade > 70:\n",
        "  testResults.append ('Distinction')\n",
        "\n",
        "elif grade >= 40:\n",
        "  testResults.append ('Pass')\n",
        "\n",
        "else:\n",
        "  testResults.append ('Fail')\n",
        "\n",
        "print (grade, '%')\n",
        "print (testResults)"
      ],
      "metadata": {
        "colab": {
          "base_uri": "https://localhost:8080/"
        },
        "id": "QqqUZ_17zfPV",
        "outputId": "d4a7c597-7fce-4214-e3c4-88e042f91d3e"
      },
      "execution_count": null,
      "outputs": [
        {
          "output_type": "stream",
          "name": "stdout",
          "text": [
            "What is your mark? 88\n",
            "97 %\n",
            "['Distinction']\n"
          ]
        }
      ]
    },
    {
      "cell_type": "code",
      "source": [
        "for number in (1,2,3,4,5):\n",
        "  print(number *2)"
      ],
      "metadata": {
        "colab": {
          "base_uri": "https://localhost:8080/"
        },
        "id": "MDxQ9LfUIWP7",
        "outputId": "9c519864-6cba-4572-df71-394081df59d1"
      },
      "execution_count": null,
      "outputs": [
        {
          "output_type": "stream",
          "name": "stdout",
          "text": [
            "2\n",
            "4\n",
            "6\n",
            "8\n",
            "10\n"
          ]
        }
      ]
    },
    {
      "cell_type": "code",
      "source": [
        "#lists\n",
        "list(range(20))"
      ],
      "metadata": {
        "colab": {
          "base_uri": "https://localhost:8080/"
        },
        "id": "eISb-FwjIuyk",
        "outputId": "d220ef94-bee5-48fb-ca8f-e3e91e78ed0e"
      },
      "execution_count": null,
      "outputs": [
        {
          "output_type": "execute_result",
          "data": {
            "text/plain": [
              "[0, 1, 2, 3, 4, 5, 6, 7, 8, 9, 10, 11, 12, 13, 14, 15, 16, 17, 18, 19]"
            ]
          },
          "metadata": {},
          "execution_count": 13
        }
      ]
    },
    {
      "cell_type": "code",
      "source": [
        "#length, width, depth\n",
        "post=[ [7,5,8], [10,10,1.5], [20,15,0.5], [3,3,3], [9,6,0.7] ]"
      ],
      "metadata": {
        "id": "kYscAisRMtf9"
      },
      "execution_count": null,
      "outputs": []
    },
    {
      "cell_type": "code",
      "source": [
        "print (post[2] [1])"
      ],
      "metadata": {
        "colab": {
          "base_uri": "https://localhost:8080/"
        },
        "id": "8vdyFkalNFGi",
        "outputId": "0f098e70-b882-475f-87b6-97dfeea9cd6c"
      },
      "execution_count": null,
      "outputs": [
        {
          "output_type": "stream",
          "name": "stdout",
          "text": [
            "15\n"
          ]
        }
      ]
    },
    {
      "cell_type": "code",
      "source": [
        "#for statement\n",
        "for item in post:\n",
        "  if item[2] <= 0.5:\n",
        "    print(item, 'small letter')\n",
        "\n",
        "  elif item[2] <= 2.5:\n",
        "    print(item, 'large letter')\n",
        "\n",
        "  else:\n",
        "    print(item, 'parcel')"
      ],
      "metadata": {
        "colab": {
          "base_uri": "https://localhost:8080/"
        },
        "id": "ymcxvtDpNgyz",
        "outputId": "96beee45-4944-4bdb-e760-cdc4c832ed9a"
      },
      "execution_count": null,
      "outputs": [
        {
          "output_type": "stream",
          "name": "stdout",
          "text": [
            "[7, 5, 8] parcel\n",
            "[10, 10, 1.5] large letter\n",
            "[20, 15, 0.5] small letter\n",
            "[3, 3, 3] parcel\n",
            "[9, 6, 0.7] large letter\n"
          ]
        }
      ]
    },
    {
      "cell_type": "code",
      "source": [
        "#while loop\n",
        "a = 10\n",
        "\n",
        "while a < 15:\n",
        "  print (a)\n",
        "  a += 1"
      ],
      "metadata": {
        "colab": {
          "base_uri": "https://localhost:8080/"
        },
        "id": "UPPNPWIYSz_s",
        "outputId": "06706d82-e3d2-4f0a-e082-195f15429d07"
      },
      "execution_count": null,
      "outputs": [
        {
          "output_type": "stream",
          "name": "stdout",
          "text": [
            "10\n",
            "11\n",
            "12\n",
            "13\n",
            "14\n"
          ]
        }
      ]
    },
    {
      "cell_type": "code",
      "source": [
        "#while loop\n",
        "a = '.........hello'\n",
        "\n",
        "while a[0] == '.':\n",
        "    a = a[1:]\n",
        "    print (a)"
      ],
      "metadata": {
        "id": "ZnP6erdqTxB8",
        "colab": {
          "base_uri": "https://localhost:8080/"
        },
        "outputId": "bf4e15bc-79fb-4c00-e9ba-4545a85a1f47"
      },
      "execution_count": null,
      "outputs": [
        {
          "output_type": "stream",
          "name": "stdout",
          "text": [
            "........hello\n",
            ".......hello\n",
            "......hello\n",
            ".....hello\n",
            "....hello\n",
            "...hello\n",
            "..hello\n",
            ".hello\n",
            "hello\n"
          ]
        }
      ]
    },
    {
      "cell_type": "code",
      "source": [
        "#conditional statements\n",
        "#length, width, depth\n",
        "post=[ [7,5,8], [10,10,1.5], [20,15,0.5], [3,3,3], [9,6,0.7] ]\n",
        "\n",
        "for item in post:\n",
        "  if item [0] <= 24 and item [1] <= 16.5 and item[2] <= 0.5: \n",
        "    print(item, 'small letter')\n",
        "\n",
        "  elif item [0] <= 35.3 and item [1] <= 25 and item[2] <= 2.5: \n",
        "    print(item, 'large letter')\n",
        "\n",
        "  else:\n",
        "    print(item, 'parcel')\n"
      ],
      "metadata": {
        "colab": {
          "base_uri": "https://localhost:8080/"
        },
        "id": "9OUQFOn4nHrn",
        "outputId": "53e197a7-b503-43bd-fd42-82793a56a06b"
      },
      "execution_count": null,
      "outputs": [
        {
          "output_type": "stream",
          "name": "stdout",
          "text": [
            "[7, 5, 8] parcel\n",
            "[10, 10, 1.5] large letter\n",
            "[20, 15, 0.5] small letter\n",
            "[3, 3, 3] parcel\n",
            "[9, 6, 0.7] large letter\n"
          ]
        }
      ]
    },
    {
      "cell_type": "code",
      "source": [
        "#calculator\n",
        "first_number = float(input('Enter your first number: '))\n",
        "second_number = float(input('Enter your second number: '))\n",
        " \n",
        "add = first_number + second_number\n",
        "my_reduce = first_number - second_number\n",
        "multiply = first_number * second_number\n",
        "divide = first_number / second_number\n",
        "my_remainder = first_number % second_number\n",
        " \n",
        "print(f'{first_number} + {second_number} = {add}')\n",
        "print(f'{first_number} - {second_number} = {my_reduce}')\n",
        "print(f'{first_number} * {second_number} = {multiply}')\n",
        "print(f'{first_number} / {second_number} = {divide}')\n",
        "print(f'{first_number} % {second_number} = {my_remainder}')\n",
        "\n",
        "anotherGo = input ('Do you want to make another calculation? ')\n",
        "for answer in anotherGo:\n",
        "  if 'yes'"
      ],
      "metadata": {
        "colab": {
          "base_uri": "https://localhost:8080/",
          "height": 131
        },
        "id": "60mZhJJ8rAl-",
        "outputId": "83809bb1-a24d-4907-b502-86d11128ddb5"
      },
      "execution_count": null,
      "outputs": [
        {
          "output_type": "error",
          "ename": "SyntaxError",
          "evalue": "ignored",
          "traceback": [
            "\u001b[0;36m  File \u001b[0;32m\"<ipython-input-38-bbe112fb7fe6>\"\u001b[0;36m, line \u001b[0;32m19\u001b[0m\n\u001b[0;31m    if 'yes'\u001b[0m\n\u001b[0m            ^\u001b[0m\n\u001b[0;31mSyntaxError\u001b[0m\u001b[0;31m:\u001b[0m invalid syntax\n"
          ]
        }
      ]
    },
    {
      "cell_type": "code",
      "source": [
        "#nested if table\n",
        "#start with smallest number first\n",
        "#length, width, depth\n",
        "post=[ [7,5,8], [10,10,1.5], [20,15,0.5], [3,3,3], [9,6,0.7] ]\n",
        "\n",
        "for item in post:\n",
        "  if item[2] <= 0.5:\n",
        "    if item [0] <= 24:  \n",
        "     if item [1] <= 16.5:\n",
        "      \n",
        "        print(item, 'small letter')\n",
        "\n",
        "  elif  item[2] <= 2.5: \n",
        "    if item [1] <= 25:\n",
        "      if item [0] <= 35.3:\n",
        "        print(item, 'large letter')\n",
        "\n",
        "  else:\n",
        "    print(item, 'parcel')"
      ],
      "metadata": {
        "colab": {
          "base_uri": "https://localhost:8080/"
        },
        "id": "Z9lL-dw81X8r",
        "outputId": "09a5b115-b9ae-43d4-cbe7-71f805bb52fe"
      },
      "execution_count": null,
      "outputs": [
        {
          "output_type": "stream",
          "name": "stdout",
          "text": [
            "[7, 5, 8] parcel\n",
            "[10, 10, 1.5] large letter\n",
            "[20, 15, 0.5] small letter\n",
            "[3, 3, 3] parcel\n",
            "[9, 6, 0.7] large letter\n"
          ]
        }
      ]
    },
    {
      "cell_type": "code",
      "source": [
        "myFile = open('python_text.txt', 'w')"
      ],
      "metadata": {
        "id": "_TiZGEetBGLT"
      },
      "execution_count": null,
      "outputs": []
    },
    {
      "cell_type": "code",
      "source": [
        "myFile.write ('This is a new file.\\n')\n",
        "myFile.close()"
      ],
      "metadata": {
        "id": "sk11qZ_BBatX"
      },
      "execution_count": null,
      "outputs": []
    },
    {
      "cell_type": "code",
      "source": [
        "new_file = open('python_text.txt', 'r')\n",
        "output = new_file.read()\n",
        "print(output)\n",
        "new_file.close()"
      ],
      "metadata": {
        "colab": {
          "base_uri": "https://localhost:8080/"
        },
        "id": "B1TbbaaBDb1U",
        "outputId": "a46ca34b-1f75-4e2c-cace-83198b094c49"
      },
      "execution_count": null,
      "outputs": [
        {
          "output_type": "stream",
          "name": "stdout",
          "text": [
            "This is a new file.\n",
            "\n"
          ]
        }
      ]
    },
    {
      "cell_type": "code",
      "source": [
        "print(output)"
      ],
      "metadata": {
        "colab": {
          "base_uri": "https://localhost:8080/"
        },
        "id": "AaMF_YgCD8Nr",
        "outputId": "a938867f-5b53-4d97-d813-b3d55a2281d0"
      },
      "execution_count": null,
      "outputs": [
        {
          "output_type": "stream",
          "name": "stdout",
          "text": [
            "This is a new file.\n",
            "\n"
          ]
        }
      ]
    },
    {
      "cell_type": "code",
      "source": [
        "new_file = open('python_text.txt', 'a')\n",
        "new_file.write('second line.\\n')\n",
        "new_file.write('third line.\\n')\n",
        "new_file.close()"
      ],
      "metadata": {
        "id": "EkdmqHWsEO8J"
      },
      "execution_count": null,
      "outputs": []
    },
    {
      "cell_type": "code",
      "source": [
        "my_name = 1234\n",
        "try:\n",
        "  print(my_name)\n",
        "except:\n",
        "  print('variable name not assigned')\n",
        "except AttributeError:\n",
        "  print('please enter a valid name')"
      ],
      "metadata": {
        "colab": {
          "base_uri": "https://localhost:8080/",
          "height": 131
        },
        "id": "kBicNHJzGDdT",
        "outputId": "fa6ae85c-05f2-4902-daed-bbfb23f92b4c"
      },
      "execution_count": 4,
      "outputs": [
        {
          "output_type": "error",
          "ename": "SyntaxError",
          "evalue": "ignored",
          "traceback": [
            "\u001b[0;36m  File \u001b[0;32m\"<ipython-input-4-3279b60480e9>\"\u001b[0;36m, line \u001b[0;32m3\u001b[0m\n\u001b[0;31m    print (my_name)\u001b[0m\n\u001b[0m          ^\u001b[0m\n\u001b[0;31mSyntaxError\u001b[0m\u001b[0;31m:\u001b[0m default 'except:' must be last\n"
          ]
        }
      ]
    },
    {
      "cell_type": "code",
      "source": [
        "f = open('python_text.txt', 'a')\n",
        "try:\n",
        "  f.write('some text.\\n')\n",
        "except:\n",
        "    print('failed to write to file')\n",
        "  \n",
        "else:\n",
        "    print('written to file')\n",
        "finally:\n",
        "  f.close()"
      ],
      "metadata": {
        "colab": {
          "base_uri": "https://localhost:8080/"
        },
        "id": "9YOq10unIUfd",
        "outputId": "5ad18efd-9f42-4a31-ef1f-74e2fee58bd0"
      },
      "execution_count": null,
      "outputs": [
        {
          "output_type": "stream",
          "name": "stdout",
          "text": [
            "written to file\n"
          ]
        }
      ]
    }
  ]
}