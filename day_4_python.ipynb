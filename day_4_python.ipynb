{
  "nbformat": 4,
  "nbformat_minor": 0,
  "metadata": {
    "colab": {
      "name": "day 4 - python",
      "provenance": [],
      "authorship_tag": "ABX9TyP3ckyWaJzWjhUu+GervAMp",
      "include_colab_link": true
    },
    "kernelspec": {
      "name": "python3",
      "display_name": "Python 3"
    },
    "language_info": {
      "name": "python"
    }
  },
  "cells": [
    {
      "cell_type": "markdown",
      "metadata": {
        "id": "view-in-github",
        "colab_type": "text"
      },
      "source": [
        "<a href=\"https://colab.research.google.com/github/10do/Python-Practice/blob/main/day_4_python.ipynb\" target=\"_parent\"><img src=\"https://colab.research.google.com/assets/colab-badge.svg\" alt=\"Open In Colab\"/></a>"
      ]
    },
    {
      "cell_type": "code",
      "execution_count": 13,
      "metadata": {
        "colab": {
          "base_uri": "https://localhost:8080/"
        },
        "id": "-kUCgfCjhNo6",
        "outputId": "b40b3c5c-5198-45a4-df97-78d08e9d9d6e"
      },
      "outputs": [
        {
          "output_type": "stream",
          "name": "stdout",
          "text": [
            "64\n"
          ]
        }
      ],
      "source": [
        "def cubed_calc (x):\n",
        "  cubed_calc = x ** 3\n",
        "  return (x**3)\n",
        "\n",
        "answer = (cubed_calc(4))\n",
        "print (answer)\n",
        "\n"
      ]
    },
    {
      "cell_type": "code",
      "source": [
        "%%file maths.py\n",
        "def times_two(x):\n",
        "  answer = x **2\n",
        "  return answer"
      ],
      "metadata": {
        "colab": {
          "base_uri": "https://localhost:8080/"
        },
        "id": "xTFlYpEZL6TU",
        "outputId": "a40bf09d-b154-4dba-c6a3-b4e2c409f4a8"
      },
      "execution_count": 15,
      "outputs": [
        {
          "output_type": "stream",
          "name": "stdout",
          "text": [
            "Writing maths.py\n"
          ]
        }
      ]
    },
    {
      "cell_type": "code",
      "source": [
        "%%file test_maths.py\n",
        "import maths\n",
        "def test_times_two ():\n",
        "    assert maths.times_two(3) ==6\n",
        "    return"
      ],
      "metadata": {
        "colab": {
          "base_uri": "https://localhost:8080/"
        },
        "id": "3GmKN4XLOBQa",
        "outputId": "f452341e-8b19-492b-98b9-bb0fbc3ca391"
      },
      "execution_count": 16,
      "outputs": [
        {
          "output_type": "stream",
          "name": "stdout",
          "text": [
            "Writing test_maths.py\n"
          ]
        }
      ]
    },
    {
      "cell_type": "code",
      "source": [
        "!python -m pytest test_maths.py"
      ],
      "metadata": {
        "colab": {
          "base_uri": "https://localhost:8080/"
        },
        "id": "zf3rh5TFPaxm",
        "outputId": "ddc4f7fb-0ab5-4f02-f677-ae86d458c6c0"
      },
      "execution_count": 17,
      "outputs": [
        {
          "output_type": "stream",
          "name": "stdout",
          "text": [
            "\u001b[1m============================= test session starts ==============================\u001b[0m\n",
            "platform linux -- Python 3.7.12, pytest-3.6.4, py-1.11.0, pluggy-0.7.1\n",
            "rootdir: /content, inifile:\n",
            "plugins: typeguard-2.7.1\n",
            "\u001b[1m\rcollecting 0 items                                                             \u001b[0m\u001b[1m\rcollecting 1 item                                                              \u001b[0m\u001b[1m\rcollected 1 item                                                               \u001b[0m\n",
            "\n",
            "test_maths.py F\u001b[36m                                                          [100%]\u001b[0m\n",
            "\n",
            "=================================== FAILURES ===================================\n",
            "\u001b[31m\u001b[1m________________________________ test_times_two ________________________________\u001b[0m\n",
            "\n",
            "\u001b[1m    def test_times_two ():\u001b[0m\n",
            "\u001b[1m>       assert maths.times_two(3) ==6\u001b[0m\n",
            "\u001b[1m\u001b[31mE       assert 9 == 6\u001b[0m\n",
            "\u001b[1m\u001b[31mE        +  where 9 = <function times_two at 0x7f069a7edb90>(3)\u001b[0m\n",
            "\u001b[1m\u001b[31mE        +    where <function times_two at 0x7f069a7edb90> = maths.times_two\u001b[0m\n",
            "\n",
            "\u001b[1m\u001b[31mtest_maths.py\u001b[0m:3: AssertionError\n",
            "\u001b[31m\u001b[1m=========================== 1 failed in 0.05 seconds ===========================\u001b[0m\n"
          ]
        }
      ]
    },
    {
      "cell_type": "code",
      "source": [
        "my_list = []\n",
        "['apples']\n",
        "print (my_list)\n",
        "my_list.append('apples')\n",
        "print (my_list)"
      ],
      "metadata": {
        "colab": {
          "base_uri": "https://localhost:8080/"
        },
        "id": "hWfBI2Bvv71T",
        "outputId": "198ccebb-b2f8-47aa-d98b-a640792de79b"
      },
      "execution_count": 29,
      "outputs": [
        {
          "output_type": "stream",
          "name": "stdout",
          "text": [
            "[]\n",
            "['apples']\n"
          ]
        }
      ]
    },
    {
      "cell_type": "code",
      "source": [
        "def is_leap_year(year):\n",
        "  # Given a year, work out if this is a leap year.\n",
        "  \n",
        "  # Start by checking if the year is divisible by 4. Years that are not\n",
        "  # divisible by 4 are never leap years.\n",
        "  is_divisible_by_4 = (year%4)==0\n",
        "\n",
        "  # We also need to check if the year is divisible by 100 and 400.\n",
        "  # Years that are divisible by 100 are not leap years, unless they're also\n",
        "  # divisible by 400.\n",
        "  is_divisible_by_100 = (year%100)==0\n",
        "  is_divisible_by_400 = (year%400)==0\n",
        "\n",
        "  # Determine the result\n",
        "  return \\\n",
        "    is_divisible_by_4 and \\\n",
        "    (is_divisible_by_400 or not is_divisible_by_100 \n",
        "     "
      ],
      "metadata": {
        "id": "wIZ9LdJvQMdZ"
      },
      "execution_count": null,
      "outputs": []
    },
    {
      "cell_type": "markdown",
      "source": [
        ""
      ],
      "metadata": {
        "id": "6jXvQvgmQU_5"
      }
    }
  ]
}